{
 "cells": [
  {
   "cell_type": "markdown",
   "metadata": {},
   "source": [
    "# Aula 6 - Estudo de Caso\n",
    "\n",
    "# Como utilizar a própria classe cliente de aulas anteriores para armazenar, buscar e acessar todos os objetos cliente instanciados."
   ]
  },
  {
   "cell_type": "markdown",
   "metadata": {},
   "source": [
    "Para armazenar, buscar e acessar todos os objetos Cliente instanciados, você pode utilizar uma abordagem onde você mantém uma lista (ou qualquer outra estrutura de dados apropriada) na própria classe Cliente para rastrear todas as instâncias criadas."
   ]
  },
  {
   "cell_type": "code",
   "execution_count": 19,
   "metadata": {},
   "outputs": [],
   "source": [
    "class Cliente:\n",
    "    clientes = []  # Lista para rastrear todos os objetos Cliente instanciados\n",
    "\n",
    "    def __init__(self, nome, sobrenome, CPF):\n",
    "        self.nome = nome\n",
    "        self.sobrenome = sobrenome\n",
    "        self.CPF = self.validar_cpf(CPF)\n",
    "        self.contas = []\n",
    "        Cliente.clientes.append(self)  # Adicionando o objeto à lista de clientes\n",
    "\n",
    "    def adicionar_conta(self, conta):\n",
    "        if conta not in self.contas:\n",
    "            self.contas.append(conta)\n",
    "        else:\n",
    "            print(\"Cliente já possui esta conta.\")\n",
    "\n",
    "    def validar_cpf(self, CPF):\n",
    "        cpf_digits = [int(digit) for digit in CPF if digit.isnumeric()]\n",
    "        cpf_to_validate = cpf_digits[:-2]\n",
    "        validador_n1 = self.calcular_digito_verificador(cpf_to_validate)\n",
    "\n",
    "        if str(validador_n1) != str(cpf_digits[-2]):\n",
    "            raise ValueError(\"CPF inválido!\")\n",
    "\n",
    "        cpf_to_validate.append(validador_n1)\n",
    "        validador_n2 = self.calcular_digito_verificador(cpf_to_validate)\n",
    "\n",
    "        if str(validador_n1) + str(validador_n2) == \"\".join(map(str, cpf_digits[-2:])):\n",
    "            return CPF\n",
    "        else:\n",
    "            raise ValueError(\"CPF inválido!\")\n",
    "\n",
    "    def calcular_digito_verificador(self, cpf_part):\n",
    "        fixa = [10, 9, 8, 7, 6, 5, 4, 3, 2]\n",
    "        validador = list(zip(cpf_part, fixa))\n",
    "        validador = [a * b for (a, b) in validador]\n",
    "        soma = sum(validador)\n",
    "        resto = soma % 11\n",
    "        if resto < 2:\n",
    "            return 0\n",
    "        return 11 - resto\n",
    "\n",
    "    def __str__(self):\n",
    "        return f\"Cliente: {self.nome} {self.sobrenome}\\nCPF: {self.CPF}\\n\"\n",
    "\n",
    "    @classmethod\n",
    "    def buscar_cliente(cls, CPF):\n",
    "        for cliente in cls.clientes:\n",
    "            if cliente.CPF == CPF:\n",
    "                return cliente\n",
    "        return None\n",
    "\n",
    "    def __str__(self):\n",
    "        return f\"Cliente: {self.nome} {self.sobrenome}\\n CPF: {self.CPF}\\n\"\n",
    "\n",
    "class Conta:\n",
    "    def __init__(self, numero, saldo, cliente):\n",
    "        self.numero = numero\n",
    "        self.saldo = saldo\n",
    "        self.cliente = cliente\n",
    "        cliente.adicionar_conta(self)\n",
    "    \n",
    "    def __str__(self):\n",
    "        return f\"Conta {self.numero} - Saldo: {self.saldo}\\nTitular da Conta\\n{self.cliente}\""
   ]
  },
  {
   "cell_type": "code",
   "execution_count": 22,
   "metadata": {},
   "outputs": [],
   "source": [
    "cliente1 = Cliente(\"João\", \"Silva\", \"061.543.102-00\")\n",
    "conta1 = Conta(123456, 1000, cliente1)\n",
    "\n",
    "cliente2 = Cliente(\"Maria\", \"Santos\", \"123.456.789-00\")\n",
    "conta2 = Conta(654321, 2000, cliente2)"
   ]
  },
  {
   "cell_type": "code",
   "execution_count": 24,
   "metadata": {},
   "outputs": [
    {
     "name": "stdout",
     "output_type": "stream",
     "text": [
      "Cliente não encontrado.\n"
     ]
    }
   ],
   "source": [
    "# Buscar cliente por CPF\n",
    "cpf_para_buscar = \"061.543.102-01\"\n",
    "cliente_encontrado = Cliente.buscar_cliente(cpf_para_buscar)\n",
    "if cliente_encontrado:\n",
    "    print(\"Cliente encontrado\\n\", cliente_encontrado)\n",
    "else:\n",
    "    print(\"Cliente não encontrado.\")"
   ]
  },
  {
   "cell_type": "code",
   "execution_count": 23,
   "metadata": {},
   "outputs": [
    {
     "name": "stdout",
     "output_type": "stream",
     "text": [
      "Cliente encontrado\n",
      " Cliente: João Silva\n",
      " CPF: 061.543.102-00\n",
      "\n"
     ]
    }
   ],
   "source": [
    "# Buscar cliente por CPF\n",
    "cpf_para_buscar = \"061.543.102-00\"\n",
    "cliente_encontrado = Cliente.buscar_cliente(cpf_para_buscar)\n",
    "if cliente_encontrado:\n",
    "    print(\"Cliente encontrado\\n\", cliente_encontrado)\n",
    "else:\n",
    "    print(\"Cliente não encontrado.\")"
   ]
  },
  {
   "cell_type": "code",
   "execution_count": 18,
   "metadata": {},
   "outputs": [
    {
     "name": "stdout",
     "output_type": "stream",
     "text": [
      "Cliente: João Silva\n",
      "CPF: 061.543.102-00\n",
      "\n",
      "Cliente: Maria Santos\n",
      "CPF: 123.456.789-00\n",
      "\n"
     ]
    }
   ],
   "source": [
    "# Imprimir todos os clientes\n",
    "for cliente in Cliente.clientes:\n",
    "    print(cliente)"
   ]
  }
 ],
 "metadata": {
  "kernelspec": {
   "display_name": "pmba",
   "language": "python",
   "name": "python3"
  },
  "language_info": {
   "codemirror_mode": {
    "name": "ipython",
    "version": 3
   },
   "file_extension": ".py",
   "mimetype": "text/x-python",
   "name": "python",
   "nbconvert_exporter": "python",
   "pygments_lexer": "ipython3",
   "version": "3.11.2"
  },
  "orig_nbformat": 4
 },
 "nbformat": 4,
 "nbformat_minor": 2
}
