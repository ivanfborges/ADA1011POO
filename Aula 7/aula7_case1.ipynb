{
 "cells": [
  {
   "cell_type": "markdown",
   "metadata": {},
   "source": [
    "# Aula 7 - Estudo de Caso\n",
    "\n",
    "# Exercício de Orientação a Objetos com Herança, Polimorfismo e Encapsulamento\n"
   ]
  },
  {
   "cell_type": "markdown",
   "metadata": {},
   "source": [
    "Neste exercício, você irá criar um sistema simples de gerenciamento de veículos, utilizando os conceitos de orientação a objetos, herança, polimorfismo e encapsulamento em Python. O sistema irá lidar com dois tipos de veículos: carros e motos.\n",
    "\n",
    "- Classe Base: Veiculo\n",
    "\n",
    "    Crie uma classe chamada Veiculo, que terá os seguintes atributos privados:\n",
    "    __marca: uma string que representa a marca do veículo.\n",
    "    __modelo: uma string que representa o modelo do veículo.\n",
    "\n",
    "- A classe Veiculo deve possuir os seguintes métodos:\n",
    "\n",
    "    Um método construtor __init__() que recebe como parâmetros a marca e o modelo do veículo, e inicializa os atributos correspondentes.\n",
    "    \n",
    "    Métodos getters para acessar os valores dos atributos privados.\n",
    "\n",
    "    Um método que retorna uma string descrevendo o veículo no formato \"Marca: <marca>, Modelo: <modelo>\".\n",
    "\n",
    "- Classe Filha: Carro\n",
    "\n",
    "    Crie uma classe chamada Carro, que herda da classe Veiculo. A classe Carro deve possuir os seguintes atributos privados adicionais:\n",
    "    \n",
    "    __portas: um inteiro que representa o número de portas do carro.\n",
    "    \n",
    "    A classe Carro deve sobrescrever o método que descreve a classe para incluir também o número de portas do carro.\n",
    "\n",
    "- Classe Filha: Moto\n",
    "\n",
    "    Crie uma classe chamada Moto, que herda da classe Veiculo. A classe Moto deve possuir os seguintes atributos privados adicionais:\n",
    "    \n",
    "    __cilindradas: um inteiro que representa as cilindradas da moto.\n",
    "    \n",
    "    A classe Moto deve sobrescrever o método que descreve a classe para incluir também as cilindradas da moto.\n",
    "\n",
    "- Implementação e Teste\n",
    "\n",
    "    No programa principal (main), crie pelo menos um objeto de cada classe (um carro e uma moto) com informações relevantes. Em seguida, armazene esses objetos em uma lista e, utilizando um loop, exiba a descrição de cada veículo na lista.\n",
    "\n",
    "Nota: Lembre-se de respeitar os princípios de encapsulamento ao acessar os atributos privados das classes usando os métodos getters.\n",
    "\n",
    "Exemplo de Saída Esperada:\n",
    "\n",
    "Carro - Marca: Toyota, Modelo: Corolla, Portas: 4\n",
    "\n",
    "Moto - Marca: Honda, Modelo: CBR500R, Cilindradas: 500"
   ]
  },
  {
   "cell_type": "code",
   "execution_count": 1,
   "metadata": {},
   "outputs": [],
   "source": [
    "class Veiculo:\n",
    "    def __init__(self, marca, modelo):\n",
    "        self.__marca = marca\n",
    "        self.__modelo = modelo\n",
    "\n",
    "    def get_marca(self):\n",
    "        return self.__marca\n",
    "\n",
    "    def get_modelo(self):\n",
    "        return self.__modelo\n",
    "\n",
    "    def __str__(self):\n",
    "        return f\"Marca: {self.__marca}, Modelo: {self.__modelo}\"\n",
    "\n",
    "\n",
    "class Carro(Veiculo):\n",
    "    def __init__(self, marca, modelo, portas):\n",
    "        super().__init__(marca, modelo)\n",
    "        self.__portas = portas\n",
    "\n",
    "    def get_portas(self):\n",
    "        return self.__portas\n",
    "\n",
    "    def __str__(self):\n",
    "        return f\"Carro - {super().__str__()}, Portas: {self.__portas}\"\n",
    "\n",
    "\n",
    "class Moto(Veiculo):\n",
    "    def __init__(self, marca, modelo, cilindradas):\n",
    "        super().__init__(marca, modelo)\n",
    "        self.__cilindradas = cilindradas\n",
    "\n",
    "    def get_cilindradas(self):\n",
    "        return self.__cilindradas\n",
    "\n",
    "    def __str__(self):\n",
    "        return f\"Moto - {super().__str__()}, Cilindradas: {self.__cilindradas}\""
   ]
  },
  {
   "cell_type": "code",
   "execution_count": 3,
   "metadata": {},
   "outputs": [
    {
     "name": "stdout",
     "output_type": "stream",
     "text": [
      "Carro - Marca: Renault, Modelo: Clio, Portas: 4\n",
      "Moto - Marca: Honda, Modelo: Bros, Cilindradas: 160\n"
     ]
    }
   ],
   "source": [
    "# Main\n",
    "carro = Carro(\"Renault\", \"Clio\", 4)\n",
    "moto = Moto(\"Honda\", \"Bros\", 160)\n",
    "\n",
    "veiculos = [carro, moto]\n",
    "\n",
    "for veiculo in veiculos:\n",
    "    print(veiculo)"
   ]
  }
 ],
 "metadata": {
  "kernelspec": {
   "display_name": "pmba",
   "language": "python",
   "name": "python3"
  },
  "language_info": {
   "codemirror_mode": {
    "name": "ipython",
    "version": 3
   },
   "file_extension": ".py",
   "mimetype": "text/x-python",
   "name": "python",
   "nbconvert_exporter": "python",
   "pygments_lexer": "ipython3",
   "version": "3.11.2"
  },
  "orig_nbformat": 4
 },
 "nbformat": 4,
 "nbformat_minor": 2
}
