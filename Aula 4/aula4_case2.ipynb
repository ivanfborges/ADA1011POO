{
 "cells": [
  {
   "cell_type": "markdown",
   "metadata": {},
   "source": [
    "# Aula 4 - Estudo de Caso 2\n",
    "\n",
    "# Como garantir que clientes da aula anterior não possuam múltiplas contas bancárias, contas não possuam múltiplos clientes e clientes sempre possuam CPFs válidos.\n",
    "ex.: https://github.com/FelippoDev/Validador_CPF/blob/master/cpf_validador.py"
   ]
  },
  {
   "cell_type": "markdown",
   "metadata": {},
   "source": [
    "- Garantir que clientes não possuam múltiplas contas:\n",
    "\n",
    "Para isso, podemos adicionar um atributo na classe Cliente para rastrear as contas associadas a cada cliente. E no construtor da classe Conta, verificamos se o cliente já possui uma conta."
   ]
  },
  {
   "cell_type": "code",
   "execution_count": 61,
   "metadata": {},
   "outputs": [],
   "source": [
    "class Cliente:\n",
    "    def __init__(self, nome, sobrenome, CPF):\n",
    "        self.nome = nome\n",
    "        self.sobrenome = sobrenome\n",
    "        self.CPF = CPF\n",
    "        self.contas = []  # Lista para rastrear as contas do cliente\n",
    "        \n",
    "    def __str__(self):\n",
    "        return f\"Cliente: {self.nome} {self.sobrenome}\\nCPF: {self.CPF}\\n\"\n",
    "\n",
    "    def adicionar_conta(self, conta):\n",
    "        if conta not in self.contas:\n",
    "            self.contas.append(conta)\n",
    "        else:\n",
    "            print(\"Cliente já possui esta conta.\")\n",
    "\n",
    "class Conta:\n",
    "    def __init__(self, numero, saldo, cliente):\n",
    "        self.numero = numero\n",
    "        self.saldo = saldo\n",
    "        self.cliente = cliente\n",
    "        cliente.adicionar_conta(self)  # Adicionar a conta ao cliente\n",
    "        \n",
    "    def __str__(self):\n",
    "        return f\"Conta {self.numero} - Saldo: {self.saldo}\\nTitular da Conta\\n{self.cliente}\""
   ]
  },
  {
   "cell_type": "code",
   "execution_count": 62,
   "metadata": {},
   "outputs": [
    {
     "name": "stdout",
     "output_type": "stream",
     "text": [
      "Cliente: João Silva\n",
      "CPF: 123.456.789-00\n",
      "\n",
      "Conta 123456 - Saldo: 1000\n",
      "Titular da Conta\n",
      "Cliente: João Silva\n",
      "CPF: 123.456.789-00\n",
      "\n"
     ]
    }
   ],
   "source": [
    "cliente1 = Cliente(\"João\", \"Silva\", \"123.456.789-00\")\n",
    "conta1 = Conta(123456, 1000, cliente1)\n",
    "\n",
    "print(cliente1)\n",
    "print(conta1)"
   ]
  },
  {
   "cell_type": "markdown",
   "metadata": {},
   "source": [
    "- Garantir que contas não possuam múltiplos clientes:\n",
    "\n",
    "No meu exemplo atual, uma conta já é criada com um único cliente associado.\n",
    "\n",
    "Se eu desejasse que uma conta possa ter vários clientes, precisaria ajustar a estrutura das classes para permitir isso."
   ]
  },
  {
   "cell_type": "markdown",
   "metadata": {},
   "source": [
    "- Garantir que clientes sempre possuam CPFs válidos:\n",
    "\n",
    "Para garantir que os CPFs sejam válidos, você pode adicionar uma validação no construtor da classe Cliente.\n",
    "\n",
    "No código abaixo função 'calcular_digito_verificador' é usada para calcular o dígito verificador de uma parte do CPF.\n",
    "\n",
    "O restante do código é adaptado para funcionar com a validação de CPF usando a lógica do git compartilhado no enunciado.\n",
    "\n",
    "Certifique-se de que o CPF esteja no formato \"xxx.xxx.xxx-xx\" ao usá-lo."
   ]
  },
  {
   "cell_type": "code",
   "execution_count": 63,
   "metadata": {},
   "outputs": [],
   "source": [
    "class Cliente:\n",
    "    def __init__(self, nome, sobrenome, CPF):\n",
    "        self.nome = nome\n",
    "        self.sobrenome = sobrenome\n",
    "        self.CPF = self.validar_cpf(CPF)\n",
    "        self.contas = []\n",
    "\n",
    "    def adicionar_conta(self, conta):\n",
    "        if conta not in self.contas:\n",
    "            self.contas.append(conta)\n",
    "        else:\n",
    "            print(\"Cliente já possui esta conta.\")\n",
    "\n",
    "    def validar_cpf(self, CPF):\n",
    "        cpf_digits = [int(digit) for digit in CPF if digit.isnumeric()]\n",
    "        cpf_to_validate = cpf_digits[:-2]\n",
    "        validador_n1 = self.calcular_digito_verificador(cpf_to_validate)\n",
    "\n",
    "        if str(validador_n1) != str(cpf_digits[-2]):\n",
    "            raise ValueError(\"CPF inválido!\")\n",
    "\n",
    "        cpf_to_validate.append(validador_n1)\n",
    "        validador_n2 = self.calcular_digito_verificador(cpf_to_validate)\n",
    "\n",
    "        if str(validador_n1) + str(validador_n2) == \"\".join(map(str, cpf_digits[-2:])):\n",
    "            return CPF\n",
    "        else:\n",
    "            raise ValueError(\"CPF inválido!\")\n",
    "\n",
    "    def calcular_digito_verificador(self, cpf_part):\n",
    "        fixa = [10, 9, 8, 7, 6, 5, 4, 3, 2]\n",
    "        validador = list(zip(cpf_part, fixa))\n",
    "        validador = [a * b for (a, b) in validador]\n",
    "        soma = sum(validador)\n",
    "        resto = soma % 11\n",
    "        if resto < 2:\n",
    "            return 0\n",
    "        return 11 - resto\n",
    "\n",
    "    def __str__(self):\n",
    "        return f\"Cliente: {self.nome} {self.sobrenome}\\nCPF: {self.CPF}\\n\"\n",
    "\n",
    "class Conta:\n",
    "    def __init__(self, numero, saldo, cliente):\n",
    "        self.numero = numero\n",
    "        self.saldo = saldo\n",
    "        self.cliente = cliente\n",
    "        cliente.adicionar_conta(self)\n",
    "\n",
    "    def __str__(self):\n",
    "        return f\"Conta {self.numero} - Saldo: {self.saldo}\\nTitular da Conta\\n{self.cliente}\""
   ]
  },
  {
   "cell_type": "code",
   "execution_count": 64,
   "metadata": {},
   "outputs": [
    {
     "ename": "ValueError",
     "evalue": "CPF inválido!",
     "output_type": "error",
     "traceback": [
      "\u001b[1;31m---------------------------------------------------------------------------\u001b[0m",
      "\u001b[1;31mValueError\u001b[0m                                Traceback (most recent call last)",
      "Cell \u001b[1;32mIn[64], line 1\u001b[0m\n\u001b[1;32m----> 1\u001b[0m cliente1 \u001b[39m=\u001b[39m Cliente(\u001b[39m\"\u001b[39;49m\u001b[39mJoão\u001b[39;49m\u001b[39m\"\u001b[39;49m, \u001b[39m\"\u001b[39;49m\u001b[39mSilva\u001b[39;49m\u001b[39m\"\u001b[39;49m, \u001b[39m\"\u001b[39;49m\u001b[39m337.609.182-04\u001b[39;49m\u001b[39m\"\u001b[39;49m)\n\u001b[0;32m      2\u001b[0m conta1 \u001b[39m=\u001b[39m Conta(\u001b[39m123456\u001b[39m, \u001b[39m1000\u001b[39m, cliente1)\n\u001b[0;32m      4\u001b[0m \u001b[39mprint\u001b[39m(cliente1)\n",
      "Cell \u001b[1;32mIn[63], line 5\u001b[0m, in \u001b[0;36mCliente.__init__\u001b[1;34m(self, nome, sobrenome, CPF)\u001b[0m\n\u001b[0;32m      3\u001b[0m \u001b[39mself\u001b[39m\u001b[39m.\u001b[39mnome \u001b[39m=\u001b[39m nome\n\u001b[0;32m      4\u001b[0m \u001b[39mself\u001b[39m\u001b[39m.\u001b[39msobrenome \u001b[39m=\u001b[39m sobrenome\n\u001b[1;32m----> 5\u001b[0m \u001b[39mself\u001b[39m\u001b[39m.\u001b[39mCPF \u001b[39m=\u001b[39m \u001b[39mself\u001b[39;49m\u001b[39m.\u001b[39;49mvalidar_cpf(CPF)\n\u001b[0;32m      6\u001b[0m \u001b[39mself\u001b[39m\u001b[39m.\u001b[39mcontas \u001b[39m=\u001b[39m []\n",
      "Cell \u001b[1;32mIn[63], line 28\u001b[0m, in \u001b[0;36mCliente.validar_cpf\u001b[1;34m(self, CPF)\u001b[0m\n\u001b[0;32m     26\u001b[0m     \u001b[39mreturn\u001b[39;00m CPF\n\u001b[0;32m     27\u001b[0m \u001b[39melse\u001b[39;00m:\n\u001b[1;32m---> 28\u001b[0m     \u001b[39mraise\u001b[39;00m \u001b[39mValueError\u001b[39;00m(\u001b[39m\"\u001b[39m\u001b[39mCPF inválido!\u001b[39m\u001b[39m\"\u001b[39m)\n",
      "\u001b[1;31mValueError\u001b[0m: CPF inválido!"
     ]
    }
   ],
   "source": [
    "cliente1 = Cliente(\"João\", \"Silva\", \"337.609.182-04\")\n",
    "conta1 = Conta(123456, 1000, cliente1)\n",
    "\n",
    "print(cliente1)\n",
    "print(conta1)"
   ]
  },
  {
   "cell_type": "code",
   "execution_count": 65,
   "metadata": {},
   "outputs": [
    {
     "name": "stdout",
     "output_type": "stream",
     "text": [
      "Cliente: José Santos\n",
      "CPF: 061.543.102-00\n",
      "\n",
      "Conta 234567 - Saldo: 2000\n",
      "Titular da Conta\n",
      "Cliente: José Santos\n",
      "CPF: 061.543.102-00\n",
      "\n"
     ]
    }
   ],
   "source": [
    "cliente2 = Cliente(\"José\", \"Santos\", \"061.543.102-00\")\n",
    "conta2 = Conta(234567, 2000, cliente2)\n",
    "\n",
    "print(cliente2)\n",
    "print(conta2)"
   ]
  }
 ],
 "metadata": {
  "kernelspec": {
   "display_name": "pmba",
   "language": "python",
   "name": "python3"
  },
  "language_info": {
   "codemirror_mode": {
    "name": "ipython",
    "version": 3
   },
   "file_extension": ".py",
   "mimetype": "text/x-python",
   "name": "python",
   "nbconvert_exporter": "python",
   "pygments_lexer": "ipython3",
   "version": "3.11.2"
  },
  "orig_nbformat": 4
 },
 "nbformat": 4,
 "nbformat_minor": 2
}
