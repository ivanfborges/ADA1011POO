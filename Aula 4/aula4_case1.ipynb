{
 "cells": [
  {
   "cell_type": "markdown",
   "metadata": {},
   "source": [
    "# Aula 4 - Estudo de Caso 1\n",
    "\n",
    "# Como evitar que as frações das aulas anteriores recebam denominador igual a zero."
   ]
  },
  {
   "cell_type": "markdown",
   "metadata": {},
   "source": [
    "Para evitar que as frações recebam um denominador igual a zero, podemos adicionar uma verificação no construtor da classe Fracao.\n",
    "\n",
    "Se o denominador passado for igual a zero, você pode levantar uma exceção para indicar que a fração é inválida."
   ]
  },
  {
   "cell_type": "code",
   "execution_count": 2,
   "metadata": {},
   "outputs": [],
   "source": [
    "class Fracao:\n",
    "    def __init__(self, numerador, denominador):\n",
    "        if denominador == 0:\n",
    "            raise ValueError(\"O denominador não pode ser zero.\")\n",
    "        \n",
    "        self.numerador = numerador\n",
    "        self.denominador = denominador"
   ]
  },
  {
   "cell_type": "code",
   "execution_count": 5,
   "metadata": {},
   "outputs": [],
   "source": [
    "class Fracao:\n",
    "    def __init__(self, numerador, denominador):\n",
    "        if denominador == 0:\n",
    "            raise ValueError(\"O denominador não pode ser zero.\")\n",
    "        \n",
    "        self.numerador = numerador\n",
    "        self.denominador = denominador\n",
    "        \n",
    "    def simplificar(self):\n",
    "        # Função para simplificar a fração\n",
    "        divisor_comum = self.mdc(self.numerador, self.denominador)\n",
    "        self.numerador //= divisor_comum\n",
    "        self.denominador //= divisor_comum\n",
    "\n",
    "    def mdc(self, a, b):\n",
    "        # Função para calcular o maior divisor comum (MDC)\n",
    "        while b:\n",
    "            a, b = b, a % b\n",
    "        return a\n",
    "\n",
    "    def __add__(self, fracao2):\n",
    "        # Operação de adição de frações\n",
    "        numerador = self.numerador * fracao2.denominador + self.denominador * fracao2.numerador\n",
    "        denominador = self.denominador * fracao2.denominador\n",
    "        fracao_resultante = Fracao(numerador, denominador)\n",
    "        fracao_resultante.simplificar()\n",
    "        return fracao_resultante\n",
    "\n",
    "    def __sub__(self, fracao2):\n",
    "        # Operação de subtração de frações\n",
    "        numerador = self.numerador * fracao2.denominador - self.denominador * fracao2.numerador\n",
    "        denominador = self.denominador * fracao2.denominador\n",
    "        fracao_resultante = Fracao(numerador, denominador)\n",
    "        fracao_resultante.simplificar()\n",
    "        return fracao_resultante\n",
    "\n",
    "    def __mul__(self, fracao2):\n",
    "        # Operação de multiplicação de frações\n",
    "        numerador = self.numerador * fracao2.numerador\n",
    "        denominador = self.denominador * fracao2.denominador\n",
    "        fracao_resultante = Fracao(numerador, denominador)\n",
    "        fracao_resultante.simplificar()\n",
    "        return fracao_resultante\n",
    "\n",
    "    def __truediv__(self, fracao2):\n",
    "        # Operação de divisão de frações\n",
    "        numerador = self.numerador * fracao2.denominador\n",
    "        denominador = self.denominador * fracao2.numerador\n",
    "        fracao_resultante = Fracao(numerador, denominador)\n",
    "        fracao_resultante.simplificar()\n",
    "        return fracao_resultante\n",
    "    \n",
    "    def __str__(self):\n",
    "        return f\"{self.numerador}/{self.denominador}\""
   ]
  },
  {
   "cell_type": "code",
   "execution_count": 6,
   "metadata": {},
   "outputs": [
    {
     "name": "stdout",
     "output_type": "stream",
     "text": [
      "Fração 1: 3/4\n",
      "Fração 2: 1/2\n",
      "Resultado da adição: 5/4\n",
      "Resultado da subtração: 1/4\n",
      "Resultado da multiplicação: 3/8\n",
      "Resultado da divisão: 3/2\n"
     ]
    }
   ],
   "source": [
    "# Testando a classe Fracao\n",
    "frac1 = Fracao(3, 4)\n",
    "frac2 = Fracao(1, 2)\n",
    "\n",
    "print(\"Fração 1:\", frac1)\n",
    "print(\"Fração 2:\", frac2)\n",
    "\n",
    "# Adição\n",
    "result_add = frac1 + frac2\n",
    "print(\"Resultado da adição:\", result_add)\n",
    "\n",
    "# Subtração\n",
    "result_sub = frac1 - frac2\n",
    "print(\"Resultado da subtração:\", result_sub)\n",
    "\n",
    "# Multiplicação\n",
    "result_mult = frac1 * frac2\n",
    "print(\"Resultado da multiplicação:\", result_mult)\n",
    "\n",
    "# Divisão\n",
    "result_div = frac1 / frac2\n",
    "print(\"Resultado da divisão:\", result_div)"
   ]
  },
  {
   "cell_type": "code",
   "execution_count": 8,
   "metadata": {},
   "outputs": [
    {
     "ename": "ValueError",
     "evalue": "O denominador não pode ser zero.",
     "output_type": "error",
     "traceback": [
      "\u001b[1;31m---------------------------------------------------------------------------\u001b[0m",
      "\u001b[1;31mValueError\u001b[0m                                Traceback (most recent call last)",
      "Cell \u001b[1;32mIn[8], line 2\u001b[0m\n\u001b[0;32m      1\u001b[0m \u001b[39m# Testando a classe Fracao\u001b[39;00m\n\u001b[1;32m----> 2\u001b[0m frac1 \u001b[39m=\u001b[39m Fracao(\u001b[39m4\u001b[39;49m, \u001b[39m0\u001b[39;49m)\n\u001b[0;32m      3\u001b[0m frac2 \u001b[39m=\u001b[39m Fracao(\u001b[39m1\u001b[39m, \u001b[39m2\u001b[39m)\n\u001b[0;32m      5\u001b[0m \u001b[39mprint\u001b[39m(\u001b[39m\"\u001b[39m\u001b[39mFração 1:\u001b[39m\u001b[39m\"\u001b[39m, frac1)\n",
      "Cell \u001b[1;32mIn[5], line 4\u001b[0m, in \u001b[0;36mFracao.__init__\u001b[1;34m(self, numerador, denominador)\u001b[0m\n\u001b[0;32m      2\u001b[0m \u001b[39mdef\u001b[39;00m \u001b[39m__init__\u001b[39m(\u001b[39mself\u001b[39m, numerador, denominador):\n\u001b[0;32m      3\u001b[0m     \u001b[39mif\u001b[39;00m denominador \u001b[39m==\u001b[39m \u001b[39m0\u001b[39m:\n\u001b[1;32m----> 4\u001b[0m         \u001b[39mraise\u001b[39;00m \u001b[39mValueError\u001b[39;00m(\u001b[39m\"\u001b[39m\u001b[39mO denominador não pode ser zero.\u001b[39m\u001b[39m\"\u001b[39m)\n\u001b[0;32m      6\u001b[0m     \u001b[39mself\u001b[39m\u001b[39m.\u001b[39mnumerador \u001b[39m=\u001b[39m numerador\n\u001b[0;32m      7\u001b[0m     \u001b[39mself\u001b[39m\u001b[39m.\u001b[39mdenominador \u001b[39m=\u001b[39m denominador\n",
      "\u001b[1;31mValueError\u001b[0m: O denominador não pode ser zero."
     ]
    }
   ],
   "source": [
    "# Testando a classe Fracao\n",
    "frac1 = Fracao(4, 0)\n",
    "frac2 = Fracao(1, 2)\n",
    "\n",
    "print(\"Fração 1:\", frac1)\n",
    "print(\"Fração 2:\", frac2)\n",
    "\n",
    "# Adição\n",
    "result_add = frac1 + frac2\n",
    "print(\"Resultado da adição:\", result_add)\n",
    "\n",
    "# Subtração\n",
    "result_sub = frac1 - frac2\n",
    "print(\"Resultado da subtração:\", result_sub)\n",
    "\n",
    "# Multiplicação\n",
    "result_mult = frac1 * frac2\n",
    "print(\"Resultado da multiplicação:\", result_mult)\n",
    "\n",
    "# Divisão\n",
    "result_div = frac1 / frac2\n",
    "print(\"Resultado da divisão:\", result_div)"
   ]
  }
 ],
 "metadata": {
  "kernelspec": {
   "display_name": "pmba",
   "language": "python",
   "name": "python3"
  },
  "language_info": {
   "codemirror_mode": {
    "name": "ipython",
    "version": 3
   },
   "file_extension": ".py",
   "mimetype": "text/x-python",
   "name": "python",
   "nbconvert_exporter": "python",
   "pygments_lexer": "ipython3",
   "version": "3.11.2"
  },
  "orig_nbformat": 4
 },
 "nbformat": 4,
 "nbformat_minor": 2
}
