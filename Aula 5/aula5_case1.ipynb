{
 "cells": [
  {
   "cell_type": "markdown",
   "metadata": {},
   "source": [
    "Os \"métodos mágicos\" em Python são métodos especiais que começam e terminam com duplo sublinhado, como __init__, __str__, __add__, __eq__, entre outros. Eles são chamados de métodos mágicos porque têm um significado especial para o interpretador Python e permitem que você defina comportamentos específicos para suas classes. Esses métodos são frequentemente usados para sobrecarregar operadores ou para definir comportamentos específicos da classe.\n",
    "\n",
    "Aqui estão alguns exemplos comuns de métodos mágicos e seus propósitos:\n",
    "\n",
    "__init__(self, ...): O construtor da classe. É chamado quando um novo objeto da classe é criado. Ele inicializa os atributos da classe.\n",
    "\n",
    "__str__(self): Define a representação em formato de string da instância da classe. É chamado quando você utiliza a função str(objeto) ou print(objeto).\n",
    "\n",
    "__add__(self, other): Define o comportamento da adição (+) entre objetos da classe. Permite que você defina como a adição deve ser realizada para esses objetos.\n",
    "\n",
    "__eq__(self, other): Define o comportamento da comparação de igualdade (==) entre objetos da classe. Determina se dois objetos são iguais.\n",
    "\n",
    "__lt__(self, other): Define o comportamento da comparação de menor que (<) entre objetos da classe.\n",
    "\n",
    "__le__(self, other): Define o comportamento da comparação de menor ou igual (<=) entre objetos da classe.\n",
    "\n",
    "__gt__(self, other): Define o comportamento da comparação de maior que (>) entre objetos da classe.\n",
    "\n",
    "__ge__(self, other): Define o comportamento da comparação de maior ou igual (>=) entre objetos da classe.\n",
    "\n",
    "__sub__(self, other): Define o comportamento da subtração (-) entre objetos da classe.\n",
    "\n",
    "__mul__(self, other): Define o comportamento da multiplicação (*) entre objetos da classe.\n",
    "\n",
    "__truediv__(self, other): Define o comportamento da divisão verdadeira (/) entre objetos da classe.\n",
    "\n",
    "__ne__(self, other): Define o comportamento da comparação de desigualdade (!=) entre objetos da classe."
   ]
  },
  {
   "cell_type": "code",
   "execution_count": 1,
   "metadata": {},
   "outputs": [],
   "source": [
    "class Fraction(object):\n",
    "    def __init__(self, numerator, denominator):\n",
    "        self.numerator = numerator\n",
    "        self.denominator = denominator\n",
    "\n",
    "    def __add__(self, other):\n",
    "        return Fraction(self.numerator * other.denominator + other.numerator * self.denominator, self.denominator * other.denominator)\n",
    "\n",
    "    def __sub__(self, other):\n",
    "        return Fraction(self.numerator * other.denominator - other.numerator * self.denominator, self.denominator * other.denominator)\n",
    "\n",
    "    def __mul__(self, other):\n",
    "        return Fraction(self.numerator * other.numerator, self.denominator * other.denominator)\n",
    "\n",
    "    def __truediv__(self, other):\n",
    "        return Fraction(self.numerator * other.denominator, self.denominator * other.numerator)\n",
    "\n",
    "    def __lt__(self, other):\n",
    "        return self.numerator * other.denominator < other.numerator * self.denominator\n",
    "\n",
    "    def __le__(self, other):\n",
    "        return self.numerator * other.denominator <= other.numerator * self.denominator\n",
    "\n",
    "    def __eq__(self, other):\n",
    "        return self.numerator * other.denominator == other.numerator * self.denominator\n",
    "\n",
    "    def __ne__(self, other):\n",
    "        return self.numerator * other.denominator != other.numerator * self.denominator\n",
    "\n",
    "    def __ge__(self, other):\n",
    "        return self.numerator * other.denominator >= other.numerator * self.denominator\n",
    "\n",
    "    def __gt__(self, other):\n",
    "        return self.numerator * other.denominator > other.numerator * self.denominator\n",
    "\n",
    "    def __str__(self):\n",
    "        return str(self.numerator) + \"/\" + str(self.denominator)"
   ]
  },
  {
   "cell_type": "code",
   "execution_count": 2,
   "metadata": {},
   "outputs": [
    {
     "name": "stdout",
     "output_type": "stream",
     "text": [
      "Fração 1: 1/2\n",
      "Fração 2: 3/4\n",
      "Fração 1 + Fração 2: 10/8\n",
      "Fração 1 - Fração 2: -2/8\n",
      "Fração 1 * Fração 2: 3/8\n",
      "Fração 1 / Fração 2: 4/6\n",
      "Fração 1 > Fração 2: False\n",
      "Fração 1 > Fração 2: True\n",
      "Fração 1 <= Fração 2: False\n",
      "Fração 1 <= Fração 2: True\n",
      "Fração 1 <= Fração 2: False\n",
      "Fração 1 <= Fração 2: True\n"
     ]
    }
   ],
   "source": [
    "frac1 = Fraction(1, 2)\n",
    "frac2 = Fraction(3, 4)\n",
    "\n",
    "print(f\"Fração 1: {frac1}\")\n",
    "print(f\"Fração 2: {frac2}\")\n",
    "print(f\"Fração 1 + Fração 2: {frac1 + frac2}\")\n",
    "print(f\"Fração 1 - Fração 2: {frac1 - frac2}\")\n",
    "print(f\"Fração 1 * Fração 2: {frac1 * frac2}\")\n",
    "print(f\"Fração 1 / Fração 2: {frac1 / frac2}\")\n",
    "print(f\"Fração 1 > Fração 2: {frac1 > frac2}\")\n",
    "print(f\"Fração 1 > Fração 2: {frac1 < frac2}\")\n",
    "print(f\"Fração 1 <= Fração 2: {frac1 >= frac2}\")\n",
    "print(f\"Fração 1 <= Fração 2: {frac1 <= frac2}\")\n",
    "print(f\"Fração 1 <= Fração 2: {frac1 == frac2}\")\n",
    "print(f\"Fração 1 <= Fração 2: {frac1 != frac2}\")"
   ]
  },
  {
   "cell_type": "markdown",
   "metadata": {},
   "source": [
    "Esses são apenas alguns exemplos de métodos mágicos. Eles permitem que você personalize o comportamento de operadores e funções específicas para suas classes, tornando suas classes mais intuitivas e fáceis de usar.\n",
    "\n",
    "Ao implementar esses métodos, você está criando uma interface consistente e previsível para suas classes, facilitando o uso e a compreensão por parte dos outros programadores que interagirão com o seu código."
   ]
  }
 ],
 "metadata": {
  "kernelspec": {
   "display_name": "pmba",
   "language": "python",
   "name": "python3"
  },
  "language_info": {
   "codemirror_mode": {
    "name": "ipython",
    "version": 3
   },
   "file_extension": ".py",
   "mimetype": "text/x-python",
   "name": "python",
   "nbconvert_exporter": "python",
   "pygments_lexer": "ipython3",
   "version": "3.11.2"
  },
  "orig_nbformat": 4
 },
 "nbformat": 4,
 "nbformat_minor": 2
}
